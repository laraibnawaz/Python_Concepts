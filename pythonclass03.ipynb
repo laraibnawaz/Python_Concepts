{
  "nbformat": 4,
  "nbformat_minor": 0,
  "metadata": {
    "colab": {
      "provenance": [],
      "authorship_tag": "ABX9TyPiboUaqj3ipLddnfdaHh7n",
      "include_colab_link": true
    },
    "kernelspec": {
      "name": "python3",
      "display_name": "Python 3"
    },
    "language_info": {
      "name": "python"
    }
  },
  "cells": [
    {
      "cell_type": "markdown",
      "metadata": {
        "id": "view-in-github",
        "colab_type": "text"
      },
      "source": [
        "<a href=\"https://colab.research.google.com/github/laraibnawaz/Python_Concepts/blob/main/pythonclass03.ipynb\" target=\"_parent\"><img src=\"https://colab.research.google.com/assets/colab-badge.svg\" alt=\"Open In Colab\"/></a>"
      ]
    },
    {
      "cell_type": "markdown",
      "source": [
        "**Python Basics Concepts**"
      ],
      "metadata": {
        "id": "2UbBc1jm7EYZ"
      }
    },
    {
      "cell_type": "markdown",
      "source": [
        "**Binary Code**"
      ],
      "metadata": {
        "id": "XdwRTtd76-It"
      }
    },
    {
      "cell_type": "code",
      "execution_count": null,
      "metadata": {
        "colab": {
          "base_uri": "https://localhost:8080/",
          "height": 36
        },
        "id": "byfTX12kShIK",
        "outputId": "04b06398-023e-4dd3-e993-3195d59b8349"
      },
      "outputs": [
        {
          "output_type": "execute_result",
          "data": {
            "text/plain": [
              "'0b1000001'"
            ],
            "application/vnd.google.colaboratory.intrinsic+json": {
              "type": "string"
            }
          },
          "metadata": {},
          "execution_count": 1
        }
      ],
      "source": [
        "bin(65)  ->low level binary code"
      ]
    },
    {
      "cell_type": "code",
      "source": [
        "print(\"A\")  ->high level bin"
      ],
      "metadata": {
        "colab": {
          "base_uri": "https://localhost:8080/"
        },
        "id": "8Mm7Q4nZS00q",
        "outputId": "515feb8e-0dbd-4db9-85ee-7ef3b50dc407"
      },
      "execution_count": null,
      "outputs": [
        {
          "output_type": "stream",
          "name": "stdout",
          "text": [
            "A\n"
          ]
        }
      ]
    },
    {
      "cell_type": "markdown",
      "source": [
        "**python** is high level language it iseasier for human and difficult for machine and machine took time to process it,as language near to machine is lower level language,it is fast and language far to machine is higher level language and it process slowly"
      ],
      "metadata": {
        "id": "RxNMQWfKSX0f"
      }
    },
    {
      "cell_type": "code",
      "source": [
        "print(\"pakistan zindabad\")"
      ],
      "metadata": {
        "id": "SbSY6fGzWChY"
      },
      "execution_count": null,
      "outputs": []
    },
    {
      "cell_type": "markdown",
      "source": [
        "all language have primitive on which language is depend on and in that we have data types\n",
        "cont enter\n",
        "alt enter\n",
        "shift enter\n",
        "primtive data types 2\n",
        "string and number"
      ],
      "metadata": {
        "id": "FnCTnpjgWkwH"
      }
    },
    {
      "cell_type": "code",
      "source": [
        "print(type(\"pakistan zindabad\"))"
      ],
      "metadata": {
        "colab": {
          "base_uri": "https://localhost:8080/"
        },
        "id": "50zBqIbhXynC",
        "outputId": "d7e4a9a4-3e21-4149-a50c-e1cec1ca4817"
      },
      "execution_count": null,
      "outputs": [
        {
          "output_type": "stream",
          "name": "stdout",
          "text": [
            "<class 'str'>\n"
          ]
        }
      ]
    },
    {
      "cell_type": "markdown",
      "source": [
        "two function are use in same line,this is run as chaining ,low level thing solved first and then other one solved,first run the inner bracet and then solved the puter bracket,doumentation with the help of string is known as docs string.when we use .it shows the method which we can use,these are the predefined method,jupter print the last line either we use the print method or not and it print the latest line but when we have to print the multiple line then i have to use the print word nefore the string in invertd comas"
      ],
      "metadata": {
        "id": "S-ZQzOb8X53K"
      }
    },
    {
      "cell_type": "code",
      "source": [
        "\"laraib nawaz\".capitalize()"
      ],
      "metadata": {
        "id": "xou28P91Z0dR",
        "colab": {
          "base_uri": "https://localhost:8080/",
          "height": 36
        },
        "outputId": "6f07316a-3146-419a-8c81-f89681b6364a"
      },
      "execution_count": null,
      "outputs": [
        {
          "output_type": "execute_result",
          "data": {
            "text/plain": [
              "'Laraib nawaz'"
            ],
            "application/vnd.google.colaboratory.intrinsic+json": {
              "type": "string"
            }
          },
          "metadata": {},
          "execution_count": 1
        }
      ]
    },
    {
      "cell_type": "code",
      "source": [
        "\"name\".upper()"
      ],
      "metadata": {
        "colab": {
          "base_uri": "https://localhost:8080/",
          "height": 36
        },
        "id": "j8BwLpq_pVFr",
        "outputId": "f5efda4a-1ec4-4548-8651-6ffedb43c40d"
      },
      "execution_count": null,
      "outputs": [
        {
          "output_type": "execute_result",
          "data": {
            "text/plain": [
              "'NAME'"
            ],
            "application/vnd.google.colaboratory.intrinsic+json": {
              "type": "string"
            }
          },
          "metadata": {},
          "execution_count": 6
        }
      ]
    },
    {
      "cell_type": "code",
      "source": [
        "\"laraib nawaz\".lower()"
      ],
      "metadata": {
        "colab": {
          "base_uri": "https://localhost:8080/",
          "height": 36
        },
        "id": "gWirRaUKWeTK",
        "outputId": "57e4e09c-4c9c-43e0-cb90-7942ce15c02f"
      },
      "execution_count": null,
      "outputs": [
        {
          "output_type": "execute_result",
          "data": {
            "text/plain": [
              "'laraib nawaz'"
            ],
            "application/vnd.google.colaboratory.intrinsic+json": {
              "type": "string"
            }
          },
          "metadata": {},
          "execution_count": 2
        }
      ]
    },
    {
      "cell_type": "code",
      "source": [
        "\"laraib nawaz\".encode()"
      ],
      "metadata": {
        "colab": {
          "base_uri": "https://localhost:8080/"
        },
        "id": "yN1cz6kkWjW0",
        "outputId": "403b7333-6254-481b-f372-e8f5b044c889"
      },
      "execution_count": null,
      "outputs": [
        {
          "output_type": "execute_result",
          "data": {
            "text/plain": [
              "b'laraib nawaz'"
            ]
          },
          "metadata": {},
          "execution_count": 3
        }
      ]
    },
    {
      "cell_type": "code",
      "source": [
        "\"laraib nawaz\"."
      ],
      "metadata": {
        "id": "SwazTru4Wxc6"
      },
      "execution_count": null,
      "outputs": []
    },
    {
      "cell_type": "markdown",
      "source": [
        "**complex number**"
      ],
      "metadata": {
        "id": "G_qH5Cj7suOm"
      }
    },
    {
      "cell_type": "code",
      "source": [
        "print(7+12j)"
      ],
      "metadata": {
        "id": "Fv_sMKtwW0ja"
      },
      "execution_count": null,
      "outputs": []
    },
    {
      "cell_type": "markdown",
      "source": [
        "complex number use for scienticfic calculation or scientific computation\n",
        "it hs two part   1-real 2-imaginary part"
      ],
      "metadata": {
        "id": "r1csceqMYcWU"
      }
    },
    {
      "cell_type": "markdown",
      "source": [
        "dynamic type programming language when code is interpret the value that stored in the physical memory of RAM how to store it decide at run time,it shows the type of the value when the code is interpret and during run time it stored the value,when we asked from python to show us the object that value has which object then they provide us the type function for this"
      ],
      "metadata": {
        "id": "llCQAL9OY4X-"
      }
    },
    {
      "cell_type": "markdown",
      "source": [
        "first run the chid function and the value of child function become the input value for the parent function"
      ],
      "metadata": {
        "id": "P5akYeYQaSL5"
      }
    },
    {
      "cell_type": "markdown",
      "source": [
        "to main types of data\n",
        "1-string   2-integer\n",
        "interger has(float, whole number ,complex number)"
      ],
      "metadata": {
        "id": "nDAIyiZLaihM"
      }
    },
    {
      "cell_type": "markdown",
      "source": [
        "why we need data types ,for different logic we need both types of data,for calculation we have integer and for business logic we have string data type"
      ],
      "metadata": {
        "id": "ql6eUBzyau10"
      }
    },
    {
      "cell_type": "markdown",
      "source": [
        "**boolean .bool data type**"
      ],
      "metadata": {
        "id": "zIni93n1a75j"
      }
    },
    {
      "cell_type": "code",
      "source": [
        "print(type(False))"
      ],
      "metadata": {
        "colab": {
          "base_uri": "https://localhost:8080/"
        },
        "id": "C1WnwYyXahDM",
        "outputId": "ae79fb95-0708-4430-c77d-d39b41743d95"
      },
      "execution_count": null,
      "outputs": [
        {
          "output_type": "stream",
          "name": "stdout",
          "text": [
            "<class 'bool'>\n"
          ]
        }
      ]
    },
    {
      "cell_type": "markdown",
      "source": [
        "for the performation of right operation in data type we need to use right data type in our logic or application"
      ],
      "metadata": {
        "id": "iO3hB6TcbQCg"
      }
    },
    {
      "cell_type": "markdown",
      "source": [
        "variable\n",
        "the thing which change time to time\n",
        "static\n",
        "some things are not changes this is static"
      ],
      "metadata": {
        "id": "jWH03MxsbcSG"
      }
    },
    {
      "cell_type": "markdown",
      "source": [
        "**set data type**\n"
      ],
      "metadata": {
        "id": "8BaECHcVC-Y3"
      }
    },
    {
      "cell_type": "code",
      "source": [
        "print(type({1,2,3,4,5,6}))"
      ],
      "metadata": {
        "colab": {
          "base_uri": "https://localhost:8080/"
        },
        "id": "f2n_x-GIC1mT",
        "outputId": "7b9a7775-9c1d-4d95-b795-c56e921293bc"
      },
      "execution_count": null,
      "outputs": [
        {
          "output_type": "stream",
          "name": "stdout",
          "text": [
            "<class 'set'>\n"
          ]
        }
      ]
    },
    {
      "cell_type": "markdown",
      "source": [
        "**list data type**"
      ],
      "metadata": {
        "id": "cimU2vC5DWii"
      }
    },
    {
      "cell_type": "code",
      "source": [
        "print(type([1,2,3,4,5]))"
      ],
      "metadata": {
        "colab": {
          "base_uri": "https://localhost:8080/"
        },
        "id": "Rf6ng_l1DUP7",
        "outputId": "2d3e6b67-385a-4b70-d254-39b897585237"
      },
      "execution_count": null,
      "outputs": [
        {
          "output_type": "stream",
          "name": "stdout",
          "text": [
            "<class 'list'>\n"
          ]
        }
      ]
    },
    {
      "cell_type": "markdown",
      "source": [
        "**dict data type**"
      ],
      "metadata": {
        "id": "vgkOSbAqDo-3"
      }
    },
    {
      "cell_type": "code",
      "source": [
        "print(type({\"name\":\"qasim\"}))"
      ],
      "metadata": {
        "colab": {
          "base_uri": "https://localhost:8080/"
        },
        "id": "fewRxUTPDrCk",
        "outputId": "985b77db-a0df-4448-bc0c-af0fa290a98d"
      },
      "execution_count": null,
      "outputs": [
        {
          "output_type": "stream",
          "name": "stdout",
          "text": [
            "<class 'dict'>\n"
          ]
        }
      ]
    },
    {
      "cell_type": "markdown",
      "source": [
        "# **variable**"
      ],
      "metadata": {
        "id": "YO3qSaTqb187"
      }
    },
    {
      "cell_type": "markdown",
      "source": [
        "how to make variable\n",
        "variable store the data type or value of that data its work like a container"
      ],
      "metadata": {
        "id": "euX-tvG9bn4Y"
      }
    },
    {
      "cell_type": "markdown",
      "source": [
        "variable it store the value of data in them selves,without variable we are unable to make dynamic application,variable store the data type in it,all data type stored in variables for temporarily storage"
      ],
      "metadata": {
        "id": "bUM4c9uVb60S"
      }
    },
    {
      "cell_type": "markdown",
      "source": [
        "viable component\n",
        "1.name\n",
        "2.operator(assign operators)\n",
        "3.value(object->str,int,tuple,set)\n"
      ],
      "metadata": {
        "id": "U58ehPMJLszo"
      }
    },
    {
      "cell_type": "code",
      "source": [
        "variable_name=\"value\"\n",
        "\n",
        "```python withtype hint\n",
        "variable_name:str=\"value\"\n",
        "\n",
        "\n",
        "``type hints dynamic language ,it tell abut the tyoe during the run time"
      ],
      "metadata": {
        "id": "vJdsUwncJaDt"
      },
      "execution_count": null,
      "outputs": []
    },
    {
      "cell_type": "code",
      "source": [
        "student_name:str=\"laraib nawaz\""
      ],
      "metadata": {
        "id": "o254El8XK8t4"
      },
      "execution_count": null,
      "outputs": []
    },
    {
      "cell_type": "markdown",
      "source": [
        "there we have **two operator**"
      ],
      "metadata": {
        "id": "npxc-LYaP3rk"
      }
    },
    {
      "cell_type": "code",
      "source": [
        "faculty_name:str=\"zia khan\"\n",
        "print(faculty_name)"
      ],
      "metadata": {
        "id": "57CggBLfINWq"
      },
      "execution_count": null,
      "outputs": []
    },
    {
      "cell_type": "code",
      "source": [
        "name:str=\"laraib nawaz\"\n",
        "father_name:str=\"muhammad nawaz\"\n",
        "print(father_name)\n",
        "age:int=24\n",
        "contact:int=\"345678\"\n",
        "email:str=\"laraib@gmail.come\"\n",
        "is_pakistan:bool=True\n",
        "\n",
        "\n",
        "\n",
        "print(name)\n",
        "print(father_name)\n",
        "print(age)\n",
        "print(email)\n",
        "print(is_pakistan)\n",
        "print(contact)"
      ],
      "metadata": {
        "colab": {
          "base_uri": "https://localhost:8080/"
        },
        "id": "2CqLp9M8IVhU",
        "outputId": "96db0fa1-aba7-433b-df44-55d411ed1a4b"
      },
      "execution_count": null,
      "outputs": [
        {
          "output_type": "stream",
          "name": "stdout",
          "text": [
            "muhammad nawaz\n",
            "laraib nawaz\n",
            "muhammad nawaz\n",
            "24\n",
            "laraib@gmail.come\n",
            "True\n",
            "345678\n"
          ]
        }
      ]
    },
    {
      "cell_type": "code",
      "source": [
        "salery:float=1000.30\n",
        "print(salery)"
      ],
      "metadata": {
        "colab": {
          "base_uri": "https://localhost:8080/"
        },
        "id": "fNtTQhJuJkq5",
        "outputId": "85138b06-4acc-43e5-9326-50c7f6b387cd"
      },
      "execution_count": null,
      "outputs": [
        {
          "output_type": "stream",
          "name": "stdout",
          "text": [
            "1000.3\n"
          ]
        }
      ]
    },
    {
      "cell_type": "code",
      "source": [
        "names:list=[\"ali\", \"abbasi\", \"laraib\"]\n",
        "print(names)"
      ],
      "metadata": {
        "colab": {
          "base_uri": "https://localhost:8080/"
        },
        "id": "NKC5zSbXKEjs",
        "outputId": "a28e1fcb-4e1c-4069-a2f9-897b11db5862"
      },
      "execution_count": null,
      "outputs": [
        {
          "output_type": "stream",
          "name": "stdout",
          "text": [
            "['ali', 'abbasi', 'laraib']\n"
          ]
        }
      ]
    },
    {
      "cell_type": "code",
      "source": [
        "education:str=\"master in data science\""
      ],
      "metadata": {
        "id": "A6UOKRloN_zh"
      },
      "execution_count": null,
      "outputs": []
    },
    {
      "cell_type": "markdown",
      "source": [
        "we cannot use zero at the start of any number in the type of integer\n",
        "and in float we can use the 0 at the start of numbers"
      ],
      "metadata": {
        "id": "hmD3mKIlPfOT"
      }
    },
    {
      "cell_type": "code",
      "source": [
        "contact_no:int=0304\n",
        "sallery:float=0.40"
      ],
      "metadata": {
        "id": "qFKYigH6OIuI"
      },
      "execution_count": null,
      "outputs": []
    },
    {
      "cell_type": "markdown",
      "source": [
        "**string fomation and concatination**"
      ],
      "metadata": {
        "id": "Aq2JVzznP6RB"
      }
    },
    {
      "cell_type": "markdown",
      "source": [
        "to achieve the meaning full information we use the concatination"
      ],
      "metadata": {
        "id": "POURvnt9QczO"
      }
    },
    {
      "cell_type": "code",
      "source": [
        "student_name:str=\"laraib nawaz\"\n",
        "father_name:str=\"muhammad nawaz\"\n",
        "age:int=30\n",
        "\n",
        "\n",
        "\n",
        "student_card:str=\"panaversity student card\\nstudent_name\"\n",
        "print(student_card)"
      ],
      "metadata": {
        "colab": {
          "base_uri": "https://localhost:8080/"
        },
        "id": "LO_XAYwfP-tP",
        "outputId": "a018e6b6-a1ab-48b8-b861-e8b3c0892527"
      },
      "execution_count": null,
      "outputs": [
        {
          "output_type": "stream",
          "name": "stdout",
          "text": [
            "panaversity student card\n",
            "student_name\n"
          ]
        }
      ]
    },
    {
      "cell_type": "code",
      "source": [
        "name:str=\"laraib nawaz\"\n",
        "father_name:str=\"muhammad nawaz\"\n",
        "age:int=30\n",
        "\n",
        "\n",
        "\n",
        "student_card:str=\"panaversity student card\\nstudent_name\" + name + \"\\n father_name\"\n",
        "print(student_card)"
      ],
      "metadata": {
        "colab": {
          "base_uri": "https://localhost:8080/"
        },
        "id": "2Azc_VqLTHpv",
        "outputId": "a26ee50a-e8b8-4b57-fc3a-c1d8d78e5e14"
      },
      "execution_count": null,
      "outputs": [
        {
          "output_type": "stream",
          "name": "stdout",
          "text": [
            "panaversity student card\n",
            "student_namelaraib nawaz\n",
            " father_name\n"
          ]
        }
      ]
    },
    {
      "cell_type": "markdown",
      "source": [
        "when we want to add new line we use \\n but it should be in the string formation ,without string it will give error ,and also when we want to concatinat any info we add that variables name without string\"\",and when we want to add the same name of variable that we use in the above info then we use the variables name with the string\"\"sign"
      ],
      "metadata": {
        "id": "xbjMKlGKZ-Xo"
      }
    },
    {
      "cell_type": "code",
      "source": [
        "name:str=\"laraib nawaz\"\n",
        "father_name:str=\"muhammad nawaz\"\n",
        "age:int=30\n",
        "\n",
        "\n",
        "\n",
        "student_card:str=\"panaversity student card\\nstudent_name\" + name + \"\\n father_name\"\n",
        "print(student_card)"
      ],
      "metadata": {
        "id": "3H_zEfi2ZXfx"
      },
      "execution_count": null,
      "outputs": []
    },
    {
      "cell_type": "code",
      "source": [
        "name:str=\"laraib nawaz\"\n",
        "father_name:str=\"muhammad nawaz\"\n",
        "age:int=30\n",
        "\n",
        "\n",
        "\n",
        "student_card:str=\"panaversity student card\\nstudent_name\" + name + \"\\n father_name\"  + father_name\n",
        "print(student_card)"
      ],
      "metadata": {
        "id": "ZAzSiW5HagUr"
      },
      "execution_count": null,
      "outputs": []
    },
    {
      "cell_type": "markdown",
      "source": [
        "whn we want to add age in the form of int it is not possible to add integer with the string ,for this purpose we have to use the type casting and we have to change the type of intereger like age and we wrote it like age:str=30 then it will not generate error in this"
      ],
      "metadata": {
        "id": "vxVCeuMXbRlS"
      }
    },
    {
      "cell_type": "code",
      "source": [
        "name:str=\"laraib nawaz\"\n",
        "father_name:str=\"muhammad nawaz\"\n",
        "age:int=30\n",
        "\n",
        "\n",
        "\n",
        "student_card:str=\"panaversity student card\\nstudent_name\" + name + \"\\n father_name\"  + father_name +\"\\nage\" + age\n",
        "print(student_card)"
      ],
      "metadata": {
        "id": "9hbjRRY5a2xN",
        "colab": {
          "base_uri": "https://localhost:8080/",
          "height": 193
        },
        "outputId": "fe12201d-5eee-4729-9cba-f0d364846616"
      },
      "execution_count": null,
      "outputs": [
        {
          "output_type": "error",
          "ename": "TypeError",
          "evalue": "can only concatenate str (not \"int\") to str",
          "traceback": [
            "\u001b[0;31m---------------------------------------------------------------------------\u001b[0m",
            "\u001b[0;31mTypeError\u001b[0m                                 Traceback (most recent call last)",
            "\u001b[0;32m/tmp/ipython-input-2380777057.py\u001b[0m in \u001b[0;36m<cell line: 0>\u001b[0;34m()\u001b[0m\n\u001b[1;32m      5\u001b[0m \u001b[0;34m\u001b[0m\u001b[0m\n\u001b[1;32m      6\u001b[0m \u001b[0;34m\u001b[0m\u001b[0m\n\u001b[0;32m----> 7\u001b[0;31m \u001b[0mstudent_card\u001b[0m\u001b[0;34m:\u001b[0m\u001b[0mstr\u001b[0m\u001b[0;34m=\u001b[0m\u001b[0;34m\"panaversity student card\\nstudent_name\"\u001b[0m \u001b[0;34m+\u001b[0m \u001b[0mname\u001b[0m \u001b[0;34m+\u001b[0m \u001b[0;34m\"\\n father_name\"\u001b[0m  \u001b[0;34m+\u001b[0m \u001b[0mfather_name\u001b[0m \u001b[0;34m+\u001b[0m\u001b[0;34m\"\\nage\"\u001b[0m \u001b[0;34m+\u001b[0m \u001b[0mage\u001b[0m\u001b[0;34m\u001b[0m\u001b[0;34m\u001b[0m\u001b[0m\n\u001b[0m\u001b[1;32m      8\u001b[0m \u001b[0mprint\u001b[0m\u001b[0;34m(\u001b[0m\u001b[0mstudent_card\u001b[0m\u001b[0;34m)\u001b[0m\u001b[0;34m\u001b[0m\u001b[0;34m\u001b[0m\u001b[0m\n",
            "\u001b[0;31mTypeError\u001b[0m: can only concatenate str (not \"int\") to str"
          ]
        }
      ]
    },
    {
      "cell_type": "markdown",
      "source": [
        "**TYPE CASTING**"
      ],
      "metadata": {
        "id": "8A3Dm8yzvxCP"
      }
    },
    {
      "cell_type": "code",
      "source": [
        "name:str=\"laraib nawaz\"\n",
        "father_name:str=\"muhammad nawaz\"\n",
        "age:int=30\n",
        "\n",
        "\n",
        "\n",
        "student_card:str=\"panaversity student card\\nstudent_name\" + name + \"\\n father_name\"  + father_name +\"\\nage\" + str(age)\n",
        "print(student_card)"
      ],
      "metadata": {
        "id": "0zW1x1SUcavk",
        "colab": {
          "base_uri": "https://localhost:8080/"
        },
        "outputId": "be3889a3-328b-4b2c-ba54-68e29e91a847"
      },
      "execution_count": null,
      "outputs": [
        {
          "output_type": "stream",
          "name": "stdout",
          "text": [
            "panaversity student card\n",
            "student_namelaraib nawaz\n",
            " father_namemuhammad nawaz\n",
            "age30\n"
          ]
        }
      ]
    },
    {
      "cell_type": "markdown",
      "source": [],
      "metadata": {
        "id": "TCPVTk3-clOB"
      }
    },
    {
      "cell_type": "markdown",
      "source": [
        "we can also use place holder to add the type of our interest and can concatenate the string with the int with the usage of place holder\n",
        "to prevent from the explicity to convert these type we can also use dor format method and moslty we use the f string method that is most famous"
      ],
      "metadata": {
        "id": "4GnqrOgWGB-T"
      }
    },
    {
      "cell_type": "markdown",
      "source": [
        "**PLACE** **HOLDER**"
      ],
      "metadata": {
        "id": "c4dO3kjJv4JV"
      }
    },
    {
      "cell_type": "code",
      "source": [
        "name :str=\"laraib\"\n",
        "father_name:str=\"m nawaz\"\n",
        "age:InterruptedError=24\n",
        "\n",
        "\n",
        "student_card=\"\"\"\n",
        "panaversity student card\n",
        "student name:%s\n",
        "father name:%s\n",
        "age:%d\n",
        "\n",
        "\"\"\"%(student_name,father_name,age)\n",
        "print(student_card)"
      ],
      "metadata": {
        "id": "Ie3HEUwBcmQB"
      },
      "execution_count": null,
      "outputs": []
    },
    {
      "cell_type": "code",
      "source": [
        "name :str =input(\"Enter your Name: \")\n",
        "father_name:str=\"m nawaz\"\n",
        "age:int=24\n",
        "\n",
        "\n",
        "student_card=\"\"\"\n",
        "panaversity student card\n",
        "student name:%s\n",
        "father name:%s\n",
        "age:%d\n",
        "\n",
        "\"\"\"%(name,father_name,age)\n",
        "print(student_card)"
      ],
      "metadata": {
        "id": "YA9eV1V4fWdI"
      },
      "execution_count": null,
      "outputs": []
    }
  ]
}